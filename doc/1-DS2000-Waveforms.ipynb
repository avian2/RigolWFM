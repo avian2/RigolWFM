version https://git-lfs.github.com/spec/v1
oid sha256:afafda60723756d18df00f54f33e39dfb63b7a056ea2e317f6abee4fe9e96da1
size 84316
