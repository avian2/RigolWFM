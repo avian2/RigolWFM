version https://git-lfs.github.com/spec/v1
oid sha256:76192f97c70d1fc6d087af9fa5985d2918672fea16efcc6f9a3326b8e647d8d4
size 84330
