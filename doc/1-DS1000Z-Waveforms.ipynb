version https://git-lfs.github.com/spec/v1
oid sha256:484e4c39c74a62234a8ded3290108235b74a1551191fd06298ce084fac0ff1d0
size 473772
