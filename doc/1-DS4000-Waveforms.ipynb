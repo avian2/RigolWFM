version https://git-lfs.github.com/spec/v1
oid sha256:c3cd5bdee0c23b56dfeef899c1920821867c8eb6edbabcdb5ebf91f4a068443e
size 114982
